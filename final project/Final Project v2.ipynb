{
 "cells": [
  {
   "cell_type": "markdown",
   "id": "3813032a",
   "metadata": {},
   "source": [
    "# Final Project\n",
    "## Krista Miller, Emma Bright\n",
    "\n",
    "****\n",
    "### Executive Summary\n",
    "\n",
    "A diagnosis of pancreatic cancer is almost certainly a death sentence, with an 11% 5-year relative survival rate the chances of making it to a full recovery are extremely slim.  Unfortunately, there is also no isolated diagnostic test, such as a mammogram for breast cancer or colonoscopy for colon cancer, that can help to detect this deadly disease early on. Researchers are still trying to find a way to help predict whether a patient is likely to have pancreatic cancer based on various health indicators.\n",
    "\n",
    "The objective of this research project is to explore Logistic Regression and Naive Bayes and determine which algorithm is most effective for predicting whether a patient will be diagnosed with pancreatic cancer by utilizing various biomarkers present within a urine sample and a patient's demographic information. \n",
    "\n",
    "\n",
    "To achieve this objective, we performed appropriate data preparation methods, such as exploratory analysis, variable selection and encoding of our data, and applied the LinearRegression and MultinomialNB libraries from sklearn.  Our “best fit” model was determined by utilizing GridSearchCV to loop through predefined hyperparameters and fit our model on our training set. \n",
    "\n",
    "Our final model results showed that our models were equally effective at predicting whether a patient was likely to be diagnosed with pancreatic cancer. The overall accuracy rate of our models was 84%. \n",
    "\n",
    "***"
   ]
  },
  {
   "cell_type": "markdown",
   "id": "2f579242",
   "metadata": {},
   "source": [
    "The libraries utilized in our project were imported below. "
   ]
  },
  {
   "cell_type": "code",
   "execution_count": 5,
   "id": "e17c13a2",
   "metadata": {},
   "outputs": [],
   "source": [
    "import pandas as pd\n",
    "import numpy as np\n",
    "from scipy import stats\n",
    "import seaborn as sns\n",
    "import matplotlib.pyplot as plt\n",
    "from sklearn import metrics\n",
    "from sklearn.metrics import mean_squared_error, classification_report\n",
    "import sklearn.preprocessing\n",
    "from sklearn.preprocessing import (LabelEncoder, StandardScaler, MinMaxScaler, RobustScaler, Binarizer, LabelBinarizer)\n",
    "from sklearn.impute import SimpleImputer\n",
    "from sklearn.model_selection import train_test_split\n",
    "from sklearn.pipeline import Pipeline\n",
    "from sklearn.model_selection import train_test_split, GridSearchCV, cross_val_score\n",
    "from sklearn.naive_bayes import MultinomialNB, GaussianNB\n",
    "from sklearn.linear_model import SGDRegressor, LogisticRegression\n",
    "from sklearn.feature_selection import chi2\n",
    "\n",
    "import warnings\n",
    "warnings.filterwarnings('ignore')"
   ]
  },
  {
   "cell_type": "markdown",
   "id": "8a9f0546",
   "metadata": {},
   "source": [
    "***\n",
    "### Data Preparation & Exploratory Analysis\n",
    "Data preparation is an important part of building any machine learning model.  To properly prepare our data and test for assumptions of our chosen statistical methods, we needed to perform exploratory analysis, variable selection and encode our data."
   ]
  },
  {
   "cell_type": "markdown",
   "id": "8206662f",
   "metadata": {},
   "source": [
    "The data set that we chose consisted of 590 independent samples (obeservations), 13 feature variables consisting of demographic information and urine protein biomarkers, and a single output variable (diagnosis).  According to Kaggle, this data was collected by researchers for the purpose of developing an accurate way to identify patients with pancreatic cancer.  To do this, they collected biomarkers from the urine of three groups of patients (reflected as 1, 2, and 3 respectively in our 'diagnosis' output variable):\n",
    "\n",
    "- Healthy controls\n",
    "- Patients with non-cancerous pancreatic conditions, like chronic pancreatitis\n",
    "- Patients with pancreatic ductal adenocarcinoma\n",
    "\n",
    "The urinary biomarkers that were measured from these patients were: creatinine, LYVE1, REG1B, and TFF1. These protein biomarkers were selected as they are generally associated with how well a pancreas is functioning.\n",
    "\n",
    "- Creatinine is a protein that is often used as an indicator of kidney function.\n",
    "- YVLE1 is lymphatic vessel endothelial hyaluronan receptor 1, a protein that may play a role in tumor metastasis\n",
    "- REG1B is a protein that may be associated with pancreas regeneration\n",
    "- TFF1 is trefoil factor 1, which may be related to regeneration and repair of the urinary tract\n",
    "\n",
    "***"
   ]
  },
  {
   "cell_type": "markdown",
   "id": "104a9326",
   "metadata": {},
   "source": [
    "To begin, we read in our dataset and checked that all observations and features were present."
   ]
  },
  {
   "cell_type": "code",
   "execution_count": 6,
   "id": "942d539a",
   "metadata": {
    "scrolled": true
   },
   "outputs": [
    {
     "name": "stdout",
     "output_type": "stream",
     "text": [
      "(590, 14)\n"
     ]
    },
    {
     "data": {
      "text/html": [
       "<div>\n",
       "<style scoped>\n",
       "    .dataframe tbody tr th:only-of-type {\n",
       "        vertical-align: middle;\n",
       "    }\n",
       "\n",
       "    .dataframe tbody tr th {\n",
       "        vertical-align: top;\n",
       "    }\n",
       "\n",
       "    .dataframe thead th {\n",
       "        text-align: right;\n",
       "    }\n",
       "</style>\n",
       "<table border=\"1\" class=\"dataframe\">\n",
       "  <thead>\n",
       "    <tr style=\"text-align: right;\">\n",
       "      <th></th>\n",
       "      <th>sample_id</th>\n",
       "      <th>patient_cohort</th>\n",
       "      <th>sample_origin</th>\n",
       "      <th>age</th>\n",
       "      <th>sex</th>\n",
       "      <th>diagnosis</th>\n",
       "      <th>stage</th>\n",
       "      <th>benign_sample_diagnosis</th>\n",
       "      <th>plasma_CA19_9</th>\n",
       "      <th>creatinine</th>\n",
       "      <th>LYVE1</th>\n",
       "      <th>REG1B</th>\n",
       "      <th>TFF1</th>\n",
       "      <th>REG1A</th>\n",
       "    </tr>\n",
       "  </thead>\n",
       "  <tbody>\n",
       "    <tr>\n",
       "      <th>0</th>\n",
       "      <td>S1</td>\n",
       "      <td>Cohort1</td>\n",
       "      <td>BPTB</td>\n",
       "      <td>33</td>\n",
       "      <td>F</td>\n",
       "      <td>1</td>\n",
       "      <td>NaN</td>\n",
       "      <td>NaN</td>\n",
       "      <td>11.7</td>\n",
       "      <td>1.83222</td>\n",
       "      <td>0.893219</td>\n",
       "      <td>52.94884</td>\n",
       "      <td>654.282174</td>\n",
       "      <td>1262.000</td>\n",
       "    </tr>\n",
       "    <tr>\n",
       "      <th>1</th>\n",
       "      <td>S10</td>\n",
       "      <td>Cohort1</td>\n",
       "      <td>BPTB</td>\n",
       "      <td>81</td>\n",
       "      <td>F</td>\n",
       "      <td>1</td>\n",
       "      <td>NaN</td>\n",
       "      <td>NaN</td>\n",
       "      <td>NaN</td>\n",
       "      <td>0.97266</td>\n",
       "      <td>2.037585</td>\n",
       "      <td>94.46703</td>\n",
       "      <td>209.488250</td>\n",
       "      <td>228.407</td>\n",
       "    </tr>\n",
       "    <tr>\n",
       "      <th>2</th>\n",
       "      <td>S100</td>\n",
       "      <td>Cohort2</td>\n",
       "      <td>BPTB</td>\n",
       "      <td>51</td>\n",
       "      <td>M</td>\n",
       "      <td>1</td>\n",
       "      <td>NaN</td>\n",
       "      <td>NaN</td>\n",
       "      <td>7.0</td>\n",
       "      <td>0.78039</td>\n",
       "      <td>0.145589</td>\n",
       "      <td>102.36600</td>\n",
       "      <td>461.141000</td>\n",
       "      <td>NaN</td>\n",
       "    </tr>\n",
       "    <tr>\n",
       "      <th>3</th>\n",
       "      <td>S101</td>\n",
       "      <td>Cohort2</td>\n",
       "      <td>BPTB</td>\n",
       "      <td>61</td>\n",
       "      <td>M</td>\n",
       "      <td>1</td>\n",
       "      <td>NaN</td>\n",
       "      <td>NaN</td>\n",
       "      <td>8.0</td>\n",
       "      <td>0.70122</td>\n",
       "      <td>0.002805</td>\n",
       "      <td>60.57900</td>\n",
       "      <td>142.950000</td>\n",
       "      <td>NaN</td>\n",
       "    </tr>\n",
       "    <tr>\n",
       "      <th>4</th>\n",
       "      <td>S102</td>\n",
       "      <td>Cohort2</td>\n",
       "      <td>BPTB</td>\n",
       "      <td>62</td>\n",
       "      <td>M</td>\n",
       "      <td>1</td>\n",
       "      <td>NaN</td>\n",
       "      <td>NaN</td>\n",
       "      <td>9.0</td>\n",
       "      <td>0.21489</td>\n",
       "      <td>0.000860</td>\n",
       "      <td>65.54000</td>\n",
       "      <td>41.088000</td>\n",
       "      <td>NaN</td>\n",
       "    </tr>\n",
       "  </tbody>\n",
       "</table>\n",
       "</div>"
      ],
      "text/plain": [
       "  sample_id patient_cohort sample_origin  age sex  diagnosis stage  \\\n",
       "0        S1        Cohort1          BPTB   33   F          1   NaN   \n",
       "1       S10        Cohort1          BPTB   81   F          1   NaN   \n",
       "2      S100        Cohort2          BPTB   51   M          1   NaN   \n",
       "3      S101        Cohort2          BPTB   61   M          1   NaN   \n",
       "4      S102        Cohort2          BPTB   62   M          1   NaN   \n",
       "\n",
       "  benign_sample_diagnosis  plasma_CA19_9  creatinine     LYVE1      REG1B  \\\n",
       "0                     NaN           11.7     1.83222  0.893219   52.94884   \n",
       "1                     NaN            NaN     0.97266  2.037585   94.46703   \n",
       "2                     NaN            7.0     0.78039  0.145589  102.36600   \n",
       "3                     NaN            8.0     0.70122  0.002805   60.57900   \n",
       "4                     NaN            9.0     0.21489  0.000860   65.54000   \n",
       "\n",
       "         TFF1     REG1A  \n",
       "0  654.282174  1262.000  \n",
       "1  209.488250   228.407  \n",
       "2  461.141000       NaN  \n",
       "3  142.950000       NaN  \n",
       "4   41.088000       NaN  "
      ]
     },
     "execution_count": 6,
     "metadata": {},
     "output_type": "execute_result"
    }
   ],
   "source": [
    "pancreatic = pd.read_csv('pancreaticCA.csv')\n",
    "\n",
    "print(pancreatic.shape)\n",
    "pancreatic.head()"
   ]
  },
  {
   "cell_type": "markdown",
   "id": "4b2dea41",
   "metadata": {},
   "source": [
    "We also checked to determine if NULL values were present within the dataset.  We found that almost half the data was null for the 'stage', 'benign_sample_diagnosis', and 'plasma_CA19_9' features.  Stage, Benign Sample Diagnosis and Plasma CA19 are variables that are associated only with their respective diagnoses.  For example, information for the 'stage' variable would only have been collected for a patient who had confirmed pancreatic cancer.  Therefore, we determined these columns would be dropped later. "
   ]
  },
  {
   "cell_type": "code",
   "execution_count": 7,
   "id": "94bec060",
   "metadata": {
    "scrolled": true
   },
   "outputs": [
    {
     "data": {
      "text/plain": [
       "sample_id                    0\n",
       "patient_cohort               0\n",
       "sample_origin                0\n",
       "age                          0\n",
       "sex                          0\n",
       "diagnosis                    0\n",
       "stage                      391\n",
       "benign_sample_diagnosis    382\n",
       "plasma_CA19_9              240\n",
       "creatinine                   0\n",
       "LYVE1                        0\n",
       "REG1B                        0\n",
       "TFF1                         0\n",
       "REG1A                      284\n",
       "dtype: int64"
      ]
     },
     "execution_count": 7,
     "metadata": {},
     "output_type": "execute_result"
    }
   ],
   "source": [
    "pancreatic.isna().sum()"
   ]
  },
  {
   "cell_type": "markdown",
   "id": "9682a7d7",
   "metadata": {},
   "source": [
    "The plot below shows a visual representation of these NULL values."
   ]
  },
  {
   "cell_type": "code",
   "execution_count": 8,
   "id": "11ef8f48",
   "metadata": {},
   "outputs": [
    {
     "data": {
      "image/png": "[encoded data removed]",
      "text/plain": [
       "<Figure size 1296x432 with 1 Axes>"
      ]
     },
     "metadata": {
      "needs_background": "light"
     },
     "output_type": "display_data"
    }
   ],
   "source": [
    "sns.displot(\n",
    "    data=pancreatic.isna().melt(value_name=\"missing\"),\n",
    "    y=\"variable\",\n",
    "    hue=\"missing\",\n",
    "    multiple=\"fill\",\n",
    "    aspect=3,\n",
    "    height=6,\n",
    "    legend=False,\n",
    "    )\n",
    "\n",
    "plt.title(\"% Missing Values per variable\", size=18, weight=\"bold\")\n",
    "plt.xlabel(\"Total Percentage\")\n",
    "plt.legend([\"Missing\", \"Not Missing\"]);\n",
    "plt.show()"
   ]
  },
  {
   "cell_type": "markdown",
   "id": "eed9a8e0",
   "metadata": {},
   "source": [
    "In addition to the NULL fields we also chose to drop columns related to the sample ID and the patient cohort.  The table below shows our dataset after the appropriate fields were removed. "
   ]
  },
  {
   "cell_type": "code",
   "execution_count": 9,
   "id": "3f632865",
   "metadata": {
    "scrolled": true
   },
   "outputs": [
    {
     "data": {
      "text/html": [
       "<div>\n",
       "<style scoped>\n",
       "    .dataframe tbody tr th:only-of-type {\n",
       "        vertical-align: middle;\n",
       "    }\n",
       "\n",
       "    .dataframe tbody tr th {\n",
       "        vertical-align: top;\n",
       "    }\n",
       "\n",
       "    .dataframe thead th {\n",
       "        text-align: right;\n",
       "    }\n",
       "</style>\n",
       "<table border=\"1\" class=\"dataframe\">\n",
       "  <thead>\n",
       "    <tr style=\"text-align: right;\">\n",
       "      <th></th>\n",
       "      <th>sample_origin</th>\n",
       "      <th>age</th>\n",
       "      <th>sex</th>\n",
       "      <th>creatinine</th>\n",
       "      <th>LYVE1</th>\n",
       "      <th>REG1B</th>\n",
       "      <th>TFF1</th>\n",
       "      <th>diagnosis</th>\n",
       "    </tr>\n",
       "  </thead>\n",
       "  <tbody>\n",
       "    <tr>\n",
       "      <th>0</th>\n",
       "      <td>BPTB</td>\n",
       "      <td>33</td>\n",
       "      <td>F</td>\n",
       "      <td>1.83222</td>\n",
       "      <td>0.893219</td>\n",
       "      <td>52.94884</td>\n",
       "      <td>654.282174</td>\n",
       "      <td>1</td>\n",
       "    </tr>\n",
       "    <tr>\n",
       "      <th>1</th>\n",
       "      <td>BPTB</td>\n",
       "      <td>81</td>\n",
       "      <td>F</td>\n",
       "      <td>0.97266</td>\n",
       "      <td>2.037585</td>\n",
       "      <td>94.46703</td>\n",
       "      <td>209.488250</td>\n",
       "      <td>1</td>\n",
       "    </tr>\n",
       "    <tr>\n",
       "      <th>2</th>\n",
       "      <td>BPTB</td>\n",
       "      <td>51</td>\n",
       "      <td>M</td>\n",
       "      <td>0.78039</td>\n",
       "      <td>0.145589</td>\n",
       "      <td>102.36600</td>\n",
       "      <td>461.141000</td>\n",
       "      <td>1</td>\n",
       "    </tr>\n",
       "    <tr>\n",
       "      <th>3</th>\n",
       "      <td>BPTB</td>\n",
       "      <td>61</td>\n",
       "      <td>M</td>\n",
       "      <td>0.70122</td>\n",
       "      <td>0.002805</td>\n",
       "      <td>60.57900</td>\n",
       "      <td>142.950000</td>\n",
       "      <td>1</td>\n",
       "    </tr>\n",
       "    <tr>\n",
       "      <th>4</th>\n",
       "      <td>BPTB</td>\n",
       "      <td>62</td>\n",
       "      <td>M</td>\n",
       "      <td>0.21489</td>\n",
       "      <td>0.000860</td>\n",
       "      <td>65.54000</td>\n",
       "      <td>41.088000</td>\n",
       "      <td>1</td>\n",
       "    </tr>\n",
       "  </tbody>\n",
       "</table>\n",
       "</div>"
      ],
      "text/plain": [
       "  sample_origin  age sex  creatinine     LYVE1      REG1B        TFF1  \\\n",
       "0          BPTB   33   F     1.83222  0.893219   52.94884  654.282174   \n",
       "1          BPTB   81   F     0.97266  2.037585   94.46703  209.488250   \n",
       "2          BPTB   51   M     0.78039  0.145589  102.36600  461.141000   \n",
       "3          BPTB   61   M     0.70122  0.002805   60.57900  142.950000   \n",
       "4          BPTB   62   M     0.21489  0.000860   65.54000   41.088000   \n",
       "\n",
       "   diagnosis  \n",
       "0          1  \n",
       "1          1  \n",
       "2          1  \n",
       "3          1  \n",
       "4          1  "
      ]
     },
     "execution_count": 9,
     "metadata": {},
     "output_type": "execute_result"
    }
   ],
   "source": [
    "pancreatic = pancreatic[[ 'sample_origin', 'age', 'sex', 'creatinine', 'LYVE1', 'REG1B', 'TFF1', 'diagnosis']]\n",
    "pancreatic.head()"
   ]
  },
  {
   "cell_type": "markdown",
   "id": "06d75b9f",
   "metadata": {},
   "source": [
    "We also used the describe function to see how the numerical features within our dataset were dispersed.  Upon evaluating the output of the describe function we decided that it would be better to use the StandardScaler package within the sklearn library to transform each of these features.  Standard scaling allows us to remove any bias from our model that may be imparted by large values from the protein biomarkers, and allows each variable to be weighed more equally. "
   ]
  },
  {
   "cell_type": "code",
   "execution_count": 10,
   "id": "7e7e03fe",
   "metadata": {},
   "outputs": [
    {
     "data": {
      "text/html": [
       "<div>\n",
       "<style scoped>\n",
       "    .dataframe tbody tr th:only-of-type {\n",
       "        vertical-align: middle;\n",
       "    }\n",
       "\n",
       "    .dataframe tbody tr th {\n",
       "        vertical-align: top;\n",
       "    }\n",
       "\n",
       "    .dataframe thead th {\n",
       "        text-align: right;\n",
       "    }\n",
       "</style>\n",
       "<table border=\"1\" class=\"dataframe\">\n",
       "  <thead>\n",
       "    <tr style=\"text-align: right;\">\n",
       "      <th></th>\n",
       "      <th>age</th>\n",
       "      <th>creatinine</th>\n",
       "      <th>LYVE1</th>\n",
       "      <th>REG1B</th>\n",
       "      <th>TFF1</th>\n",
       "      <th>diagnosis</th>\n",
       "    </tr>\n",
       "  </thead>\n",
       "  <tbody>\n",
       "    <tr>\n",
       "      <th>count</th>\n",
       "      <td>590.000000</td>\n",
       "      <td>590.000000</td>\n",
       "      <td>590.000000</td>\n",
       "      <td>590.000000</td>\n",
       "      <td>590.000000</td>\n",
       "      <td>590.000000</td>\n",
       "    </tr>\n",
       "    <tr>\n",
       "      <th>mean</th>\n",
       "      <td>59.079661</td>\n",
       "      <td>0.855383</td>\n",
       "      <td>3.063530</td>\n",
       "      <td>111.774090</td>\n",
       "      <td>597.868722</td>\n",
       "      <td>2.027119</td>\n",
       "    </tr>\n",
       "    <tr>\n",
       "      <th>std</th>\n",
       "      <td>13.109520</td>\n",
       "      <td>0.639028</td>\n",
       "      <td>3.438796</td>\n",
       "      <td>196.267110</td>\n",
       "      <td>1010.477245</td>\n",
       "      <td>0.804873</td>\n",
       "    </tr>\n",
       "    <tr>\n",
       "      <th>min</th>\n",
       "      <td>26.000000</td>\n",
       "      <td>0.056550</td>\n",
       "      <td>0.000129</td>\n",
       "      <td>0.001104</td>\n",
       "      <td>0.005293</td>\n",
       "      <td>1.000000</td>\n",
       "    </tr>\n",
       "    <tr>\n",
       "      <th>25%</th>\n",
       "      <td>50.000000</td>\n",
       "      <td>0.373230</td>\n",
       "      <td>0.167179</td>\n",
       "      <td>10.757216</td>\n",
       "      <td>43.961000</td>\n",
       "      <td>1.000000</td>\n",
       "    </tr>\n",
       "    <tr>\n",
       "      <th>50%</th>\n",
       "      <td>60.000000</td>\n",
       "      <td>0.723840</td>\n",
       "      <td>1.649862</td>\n",
       "      <td>34.303353</td>\n",
       "      <td>259.873974</td>\n",
       "      <td>2.000000</td>\n",
       "    </tr>\n",
       "    <tr>\n",
       "      <th>75%</th>\n",
       "      <td>69.000000</td>\n",
       "      <td>1.139482</td>\n",
       "      <td>5.205037</td>\n",
       "      <td>122.741013</td>\n",
       "      <td>742.736000</td>\n",
       "      <td>3.000000</td>\n",
       "    </tr>\n",
       "    <tr>\n",
       "      <th>max</th>\n",
       "      <td>89.000000</td>\n",
       "      <td>4.116840</td>\n",
       "      <td>23.890323</td>\n",
       "      <td>1403.897600</td>\n",
       "      <td>13344.300000</td>\n",
       "      <td>3.000000</td>\n",
       "    </tr>\n",
       "  </tbody>\n",
       "</table>\n",
       "</div>"
      ],
      "text/plain": [
       "              age  creatinine       LYVE1        REG1B          TFF1  \\\n",
       "count  590.000000  590.000000  590.000000   590.000000    590.000000   \n",
       "mean    59.079661    0.855383    3.063530   111.774090    597.868722   \n",
       "std     13.109520    0.639028    3.438796   196.267110   1010.477245   \n",
       "min     26.000000    0.056550    0.000129     0.001104      0.005293   \n",
       "25%     50.000000    0.373230    0.167179    10.757216     43.961000   \n",
       "50%     60.000000    0.723840    1.649862    34.303353    259.873974   \n",
       "75%     69.000000    1.139482    5.205037   122.741013    742.736000   \n",
       "max     89.000000    4.116840   23.890323  1403.897600  13344.300000   \n",
       "\n",
       "        diagnosis  \n",
       "count  590.000000  \n",
       "mean     2.027119  \n",
       "std      0.804873  \n",
       "min      1.000000  \n",
       "25%      1.000000  \n",
       "50%      2.000000  \n",
       "75%      3.000000  \n",
       "max      3.000000  "
      ]
     },
     "execution_count": 10,
     "metadata": {},
     "output_type": "execute_result"
    }
   ],
   "source": [
    "pancreatic.describe()"
   ]
  },
  {
   "cell_type": "code",
   "execution_count": 11,
   "id": "dce7bce2",
   "metadata": {
    "scrolled": true
   },
   "outputs": [
    {
     "data": {
      "text/html": [
       "<div>\n",
       "<style scoped>\n",
       "    .dataframe tbody tr th:only-of-type {\n",
       "        vertical-align: middle;\n",
       "    }\n",
       "\n",
       "    .dataframe tbody tr th {\n",
       "        vertical-align: top;\n",
       "    }\n",
       "\n",
       "    .dataframe thead th {\n",
       "        text-align: right;\n",
       "    }\n",
       "</style>\n",
       "<table border=\"1\" class=\"dataframe\">\n",
       "  <thead>\n",
       "    <tr style=\"text-align: right;\">\n",
       "      <th></th>\n",
       "      <th>sample_origin</th>\n",
       "      <th>age</th>\n",
       "      <th>sex</th>\n",
       "      <th>creatinine</th>\n",
       "      <th>LYVE1</th>\n",
       "      <th>REG1B</th>\n",
       "      <th>TFF1</th>\n",
       "      <th>diagnosis</th>\n",
       "    </tr>\n",
       "  </thead>\n",
       "  <tbody>\n",
       "    <tr>\n",
       "      <th>0</th>\n",
       "      <td>BPTB</td>\n",
       "      <td>-1.991056</td>\n",
       "      <td>F</td>\n",
       "      <td>1.529927</td>\n",
       "      <td>-0.631661</td>\n",
       "      <td>-0.299975</td>\n",
       "      <td>0.055876</td>\n",
       "      <td>1</td>\n",
       "    </tr>\n",
       "    <tr>\n",
       "      <th>1</th>\n",
       "      <td>BPTB</td>\n",
       "      <td>1.673512</td>\n",
       "      <td>F</td>\n",
       "      <td>0.183680</td>\n",
       "      <td>-0.298597</td>\n",
       "      <td>-0.088256</td>\n",
       "      <td>-0.384680</td>\n",
       "      <td>1</td>\n",
       "    </tr>\n",
       "    <tr>\n",
       "      <th>2</th>\n",
       "      <td>BPTB</td>\n",
       "      <td>-0.616843</td>\n",
       "      <td>M</td>\n",
       "      <td>-0.117454</td>\n",
       "      <td>-0.849256</td>\n",
       "      <td>-0.047976</td>\n",
       "      <td>-0.135425</td>\n",
       "      <td>1</td>\n",
       "    </tr>\n",
       "    <tr>\n",
       "      <th>3</th>\n",
       "      <td>BPTB</td>\n",
       "      <td>0.146609</td>\n",
       "      <td>M</td>\n",
       "      <td>-0.241451</td>\n",
       "      <td>-0.890812</td>\n",
       "      <td>-0.261065</td>\n",
       "      <td>-0.450584</td>\n",
       "      <td>1</td>\n",
       "    </tr>\n",
       "    <tr>\n",
       "      <th>4</th>\n",
       "      <td>BPTB</td>\n",
       "      <td>0.222954</td>\n",
       "      <td>M</td>\n",
       "      <td>-1.003143</td>\n",
       "      <td>-0.891378</td>\n",
       "      <td>-0.235767</td>\n",
       "      <td>-0.551475</td>\n",
       "      <td>1</td>\n",
       "    </tr>\n",
       "  </tbody>\n",
       "</table>\n",
       "</div>"
      ],
      "text/plain": [
       "  sample_origin       age sex  creatinine     LYVE1     REG1B      TFF1  \\\n",
       "0          BPTB -1.991056   F    1.529927 -0.631661 -0.299975  0.055876   \n",
       "1          BPTB  1.673512   F    0.183680 -0.298597 -0.088256 -0.384680   \n",
       "2          BPTB -0.616843   M   -0.117454 -0.849256 -0.047976 -0.135425   \n",
       "3          BPTB  0.146609   M   -0.241451 -0.890812 -0.261065 -0.450584   \n",
       "4          BPTB  0.222954   M   -1.003143 -0.891378 -0.235767 -0.551475   \n",
       "\n",
       "   diagnosis  \n",
       "0          1  \n",
       "1          1  \n",
       "2          1  \n",
       "3          1  \n",
       "4          1  "
      ]
     },
     "execution_count": 11,
     "metadata": {},
     "output_type": "execute_result"
    }
   ],
   "source": [
    "pancreatic[['age', 'creatinine', 'LYVE1', 'REG1B', 'TFF1']] = StandardScaler().fit_transform(pancreatic[['age', 'creatinine', 'LYVE1', 'REG1B', 'TFF1']])\n",
    "pancreatic.head()"
   ]
  },
  {
   "cell_type": "markdown",
   "id": "0a4e7003",
   "metadata": {},
   "source": [
    "We also needed to create separate binary column indicators for our sample origin feature. This transformation can be seen below. "
   ]
  },
  {
   "cell_type": "code",
   "execution_count": 12,
   "id": "60317d65",
   "metadata": {
    "scrolled": true
   },
   "outputs": [
    {
     "data": {
      "text/html": [
       "<div>\n",
       "<style scoped>\n",
       "    .dataframe tbody tr th:only-of-type {\n",
       "        vertical-align: middle;\n",
       "    }\n",
       "\n",
       "    .dataframe tbody tr th {\n",
       "        vertical-align: top;\n",
       "    }\n",
       "\n",
       "    .dataframe thead th {\n",
       "        text-align: right;\n",
       "    }\n",
       "</style>\n",
       "<table border=\"1\" class=\"dataframe\">\n",
       "  <thead>\n",
       "    <tr style=\"text-align: right;\">\n",
       "      <th></th>\n",
       "      <th>age</th>\n",
       "      <th>sex</th>\n",
       "      <th>creatinine</th>\n",
       "      <th>LYVE1</th>\n",
       "      <th>REG1B</th>\n",
       "      <th>TFF1</th>\n",
       "      <th>diagnosis</th>\n",
       "      <th>sample_origin_ESP</th>\n",
       "      <th>sample_origin_LIV</th>\n",
       "      <th>sample_origin_UCL</th>\n",
       "    </tr>\n",
       "  </thead>\n",
       "  <tbody>\n",
       "    <tr>\n",
       "      <th>0</th>\n",
       "      <td>-1.991056</td>\n",
       "      <td>1</td>\n",
       "      <td>1.529927</td>\n",
       "      <td>-0.631661</td>\n",
       "      <td>-0.299975</td>\n",
       "      <td>0.055876</td>\n",
       "      <td>1</td>\n",
       "      <td>0</td>\n",
       "      <td>0</td>\n",
       "      <td>0</td>\n",
       "    </tr>\n",
       "    <tr>\n",
       "      <th>1</th>\n",
       "      <td>1.673512</td>\n",
       "      <td>1</td>\n",
       "      <td>0.183680</td>\n",
       "      <td>-0.298597</td>\n",
       "      <td>-0.088256</td>\n",
       "      <td>-0.384680</td>\n",
       "      <td>1</td>\n",
       "      <td>0</td>\n",
       "      <td>0</td>\n",
       "      <td>0</td>\n",
       "    </tr>\n",
       "    <tr>\n",
       "      <th>2</th>\n",
       "      <td>-0.616843</td>\n",
       "      <td>0</td>\n",
       "      <td>-0.117454</td>\n",
       "      <td>-0.849256</td>\n",
       "      <td>-0.047976</td>\n",
       "      <td>-0.135425</td>\n",
       "      <td>1</td>\n",
       "      <td>0</td>\n",
       "      <td>0</td>\n",
       "      <td>0</td>\n",
       "    </tr>\n",
       "    <tr>\n",
       "      <th>3</th>\n",
       "      <td>0.146609</td>\n",
       "      <td>0</td>\n",
       "      <td>-0.241451</td>\n",
       "      <td>-0.890812</td>\n",
       "      <td>-0.261065</td>\n",
       "      <td>-0.450584</td>\n",
       "      <td>1</td>\n",
       "      <td>0</td>\n",
       "      <td>0</td>\n",
       "      <td>0</td>\n",
       "    </tr>\n",
       "    <tr>\n",
       "      <th>4</th>\n",
       "      <td>0.222954</td>\n",
       "      <td>0</td>\n",
       "      <td>-1.003143</td>\n",
       "      <td>-0.891378</td>\n",
       "      <td>-0.235767</td>\n",
       "      <td>-0.551475</td>\n",
       "      <td>1</td>\n",
       "      <td>0</td>\n",
       "      <td>0</td>\n",
       "      <td>0</td>\n",
       "    </tr>\n",
       "  </tbody>\n",
       "</table>\n",
       "</div>"
      ],
      "text/plain": [
       "        age  sex  creatinine     LYVE1     REG1B      TFF1  diagnosis  \\\n",
       "0 -1.991056    1    1.529927 -0.631661 -0.299975  0.055876          1   \n",
       "1  1.673512    1    0.183680 -0.298597 -0.088256 -0.384680          1   \n",
       "2 -0.616843    0   -0.117454 -0.849256 -0.047976 -0.135425          1   \n",
       "3  0.146609    0   -0.241451 -0.890812 -0.261065 -0.450584          1   \n",
       "4  0.222954    0   -1.003143 -0.891378 -0.235767 -0.551475          1   \n",
       "\n",
       "   sample_origin_ESP  sample_origin_LIV  sample_origin_UCL  \n",
       "0                  0                  0                  0  \n",
       "1                  0                  0                  0  \n",
       "2                  0                  0                  0  \n",
       "3                  0                  0                  0  \n",
       "4                  0                  0                  0  "
      ]
     },
     "execution_count": 12,
     "metadata": {},
     "output_type": "execute_result"
    }
   ],
   "source": [
    "pancreatic.sex = np.where(\n",
    "        (pancreatic.sex == 'M'), 0, 1)\n",
    "\n",
    "pancreatic = pd.get_dummies(data=pancreatic, drop_first=True)\n",
    "    \n",
    "pancreatic.head()"
   ]
  },
  {
   "cell_type": "markdown",
   "id": "31b72e51",
   "metadata": {},
   "source": [
    "Finally, we took a look at our output varaible. As mentioned earlier, our output variable contained 3 responses: \n",
    "\n",
    "- 1: No pancreatic cancer or pancreatic disease (a healthy pancreas)\n",
    "- 2: Pancreatic Disease, but no cancer\n",
    "- 3: Pancreatic Cancer\n",
    "\n",
    "For our model, we only wanted to identify those patients that had cancer, not those who had pancreatic disease, so we chose to relabel our output variable as follows:\n",
    "\n",
    "- 0: No pancreatic cancer OR pancreatic disease, but no cancer. \n",
    "- 1: Pancreatic cancer.\n",
    "\n",
    "The code and tables below show this manipulation and the results of our final output variable. "
   ]
  },
  {
   "cell_type": "code",
   "execution_count": 13,
   "id": "7486bf56",
   "metadata": {},
   "outputs": [
    {
     "data": {
      "text/plain": [
       "2    208\n",
       "3    199\n",
       "1    183\n",
       "Name: diagnosis, dtype: int64"
      ]
     },
     "execution_count": 13,
     "metadata": {},
     "output_type": "execute_result"
    }
   ],
   "source": [
    "pancreatic.diagnosis.value_counts()"
   ]
  },
  {
   "cell_type": "code",
   "execution_count": 14,
   "id": "21f4462e",
   "metadata": {},
   "outputs": [
    {
     "data": {
      "text/plain": [
       "0    391\n",
       "1    199\n",
       "Name: diagnosis, dtype: int64"
      ]
     },
     "execution_count": 14,
     "metadata": {},
     "output_type": "execute_result"
    }
   ],
   "source": [
    "pancreatic.diagnosis = np.where((\n",
    "        (pancreatic.diagnosis == 1) | \n",
    "        (pancreatic.diagnosis == 2)), 0, 1)\n",
    "\n",
    "pancreatic.diagnosis.value_counts()"
   ]
  },
  {
   "cell_type": "markdown",
   "id": "367073f0",
   "metadata": {},
   "source": [
    "We also used visual plots to try to identify correlation between our output variable and various feature variables in this exploratory analysis phase. \n",
    "\n",
    "The plot below shows how our diagnosis output variable was distributed amongst the sex of patients. "
   ]
  },
  {
   "cell_type": "code",
   "execution_count": 15,
   "id": "3d3745b5",
   "metadata": {
    "scrolled": true
   },
   "outputs": [
    {
     "data": {
      "image/png": "[encoded data removed]",
      "text/plain": [
       "<Figure size 432x288 with 1 Axes>"
      ]
     },
     "metadata": {
      "needs_background": "light"
     },
     "output_type": "display_data"
    }
   ],
   "source": [
    "ax = sns.countplot(y=\"diagnosis\", hue = \"sex\", data = pancreatic)\n",
    "plt.title(\"Distribution of samples by sex\", size=14, weight=\"bold\")\n",
    "plt.legend([\"Female\", \"Male\"])\n",
    "plt.show()"
   ]
  },
  {
   "cell_type": "markdown",
   "id": "1d93a556",
   "metadata": {},
   "source": [
    "This next plot shows how our diagnosis output variable was distributed amongst the age of patients. Age is normally distributed among the diagnosis=0 cohortt, while pancreatic cancer cohort slightly skews left. "
   ]
  },
  {
   "cell_type": "code",
   "execution_count": 17,
   "id": "61a6fd25",
   "metadata": {},
   "outputs": [
    {
     "data": {
      "image/png": "[encoded data removed]",
      "text/plain": [
       "<Figure size 327.6x252 with 2 Axes>"
      ]
     },
     "metadata": {
      "needs_background": "light"
     },
     "output_type": "display_data"
    }
   ],
   "source": [
    "g = sns.FacetGrid(pancreatic, col=\"diagnosis\", height=3.5, aspect=.65)\n",
    "g.map(sns.histplot, \"age\")\n",
    "g.set(xlabel=None)\n",
    "plt.show()"
   ]
  },
  {
   "cell_type": "markdown",
   "id": "a231b02b",
   "metadata": {},
   "source": [
    "#### Train-Test Split\n",
    "\n",
    "The train-test split procedure is used to evaluate the performance of a machine learning model.  \n",
    "\n",
    "The training set and test set are separate subsets of a full dataset used for model building and evaluation. For example, to build a model and evaluate it’s performance a dataset may be split into 70% training data (training set) and 30% test data (test set). The training set is the generally the largest subset or sample of the dataset and it is used for building the predictive model on the dataset.  The test set is a smaller sample of data used to provide an evaluation of the final model fit on the training dataset – after any parameters have been tuned using the validation set evaluation.\n",
    "\n",
    "For our project we chose a 70-30 split for our training and test data. "
   ]
  },
  {
   "cell_type": "code",
   "execution_count": 18,
   "id": "ec437589",
   "metadata": {},
   "outputs": [
    {
     "name": "stdout",
     "output_type": "stream",
     "text": [
      "X_train:\n",
      " (413, 9)\n",
      "\n",
      "X_test:\n",
      " (177, 9)\n",
      "\n",
      "y_train:\n",
      " (413,)\n",
      "\n",
      "y_test:\n",
      " (177,)\n",
      "\n"
     ]
    }
   ],
   "source": [
    "X = pancreatic[['age', 'sex', 'creatinine', 'LYVE1', 'REG1B', 'TFF1', 'sample_origin_ESP', 'sample_origin_LIV', 'sample_origin_UCL']]\n",
    "y = pancreatic['diagnosis']\n",
    "\n",
    "X_train, X_test, y_train, y_test = train_test_split(X, y, test_size = 0.3, random_state = 42)\n",
    "print(f'X_train:\\n {X_train.shape}\\n')\n",
    "print(f'X_test:\\n {X_test.shape}\\n')\n",
    "\n",
    "print(f'y_train:\\n {y_train.shape}\\n')\n",
    "print(f'y_test:\\n {y_test.shape}\\n')"
   ]
  },
  {
   "cell_type": "markdown",
   "id": "5d679168",
   "metadata": {},
   "source": [
    "### Machine Learning Models\n",
    "\n",
    "For our project we will be exploring the Logistic Regression and Naive Bayes classification algorithms. \n",
    "\n",
    "Logistic Regression and Naive Bayes are both linear classification learning algorithms, however, they differ in their methods of implementation and use. \n",
    "\n",
    "Logistic regression is a linear classification method used to understand the relationship between the dependent variable, predictor, and one or more independent variables, features, by estimating the probabilities using a logistic regression equation. Logistic regression is generally used to determine the likelihood of binomial outcomes, yes and no, given the set of independent features. The basic assumption of logistic regression is that all observations and features are independent.\n",
    "\n",
    "Naïve bayes is a set of classification methods based on Bayes’ theorem that use the “naïve” assumption that all features are independent.  Bayes’ theorem states that we can find the probability of an event happening (outcome variable) given an event B (set of independent features) has occurred.  Naïve Bayes also assumes that each feature has an equal importance in determining the probability of the outcome.  Naïve Bayes is a popular method for classifying categorical features and, like Logistic Regression, is usually used to determine a binary, yes/no, outcome variable. \n",
    "\n",
    "While both predictive learning algorithms perform well on most datasets, there are certain situations in which one algorithm may perform better than the other. Logistic Regression is better suited to datasets with large sample sizes and Naïve Bayes performs better with high-dimensional datasets. This makes it especially interesting for our project as we have both low-dimensional data and a small number of observations (less than 1000). \n",
    "\n",
    "Additionally, even though both algorithms are used to classify data, the way the algorithms compute probabilities to determine the class of the data is different.  Naïve Bayes is considered a generative model where the outcome is learned using a joint probability distribution, P(x,y).  Logistic Regression is a discriminative model where the outcome is learned using a conditional probability distribution, P(Y|X=x)."
   ]
  },
  {
   "cell_type": "markdown",
   "id": "cc893738",
   "metadata": {},
   "source": [
    "### Logistic Regression\n",
    "\n",
    "We began our exploration of these models with Logistic Regression.  As stated above, Logistic Regression has two major assumptions:\n",
    "- Indepdence of observations\n",
    "- Indepdence of feature variables (little multicollinearity)\n",
    "\n",
    "Fortunately, each of the samples within our data was collected from a different patient, and thus our observations were independent, however, we still needed to check that our feature variables were not highly correlated. \n",
    "\n",
    "The correlation plot below allowed us to check the collinearity of variables and gave us assurance that the assumption was satisfied."
   ]
  },
  {
   "cell_type": "code",
   "execution_count": 19,
   "id": "8401e77e",
   "metadata": {},
   "outputs": [
    {
     "data": {
      "image/png": "[encoded data removed]",
      "text/plain": [
       "<Figure size 1152x648 with 2 Axes>"
      ]
     },
     "metadata": {
      "needs_background": "light"
     },
     "output_type": "display_data"
    }
   ],
   "source": [
    "## multicollinearity \n",
    "plt.figure(figsize=(16,9))\n",
    "corr_mx = X.corr()\n",
    "matrix = np.triu(corr_mx)  \n",
    "sns.heatmap(corr_mx, cmap=\"inferno\", mask=matrix, annot = True)\n",
    "plt.show()"
   ]
  },
  {
   "cell_type": "markdown",
   "id": "93397786",
   "metadata": {},
   "source": [
    "#### Build Logistic Regression Model\n",
    "\n",
    "Our data has been cleaned, scaled, and split into training and test datasets and we have checked for all assumptions required by our classifcation method, so we are now free to build the logistic regression model. \n",
    "\n",
    "To begin, we created a model with no additional hyper parameter tuning. This model was able to accurately predict the diagnosis of pancreatic cancer patients at 84.745%. "
   ]
  },
  {
   "cell_type": "code",
   "execution_count": 20,
   "id": "fdb886ec",
   "metadata": {},
   "outputs": [
    {
     "name": "stdout",
     "output_type": "stream",
     "text": [
      "Logistic Regression model accuracy(in %): 84.7457627118644\n"
     ]
    }
   ],
   "source": [
    "# create logistic regression object\n",
    "reg = LogisticRegression()\n",
    "   \n",
    "# train the model using the training sets\n",
    "reg.fit(X_train, y_train)\n",
    "  \n",
    "# making predictions on the testing set\n",
    "y_pred = reg.predict(X_test)\n",
    "   \n",
    "# comparing actual response values (y_test) with predicted response values (y_pred)\n",
    "print(\"Logistic Regression model accuracy(in %):\", \n",
    "metrics.accuracy_score(y_test, y_pred)*100)"
   ]
  },
  {
   "cell_type": "code",
   "execution_count": 21,
   "id": "e56bdc0d",
   "metadata": {
    "scrolled": true
   },
   "outputs": [
    {
     "name": "stdout",
     "output_type": "stream",
     "text": [
      "              precision    recall  f1-score   support\n",
      "\n",
      "           0       0.89      0.90      0.89       125\n",
      "           1       0.75      0.73      0.74        52\n",
      "\n",
      "    accuracy                           0.85       177\n",
      "   macro avg       0.82      0.81      0.82       177\n",
      "weighted avg       0.85      0.85      0.85       177\n",
      "\n"
     ]
    }
   ],
   "source": [
    "print(classification_report(y_test, y_pred))"
   ]
  },
  {
   "cell_type": "markdown",
   "id": "89dbd357",
   "metadata": {},
   "source": [
    "We then performed hyperparameter tuning with GridSearchCV to see if we could increase the overall accuracy of our Logistic Regression model. The parameters that we chose to tune tested for different model variations with respect to type of regularization, size of penalty, and type of solver used."
   ]
  },
  {
   "cell_type": "code",
   "execution_count": 22,
   "id": "20794c35",
   "metadata": {},
   "outputs": [
    {
     "name": "stdout",
     "output_type": "stream",
     "text": [
      "Tuned Hyperparameters : {'C': 1.0, 'penalty': 'l2', 'solver': 'liblinear'}\n"
     ]
    }
   ],
   "source": [
    "# parameter grid\n",
    "parameters = {\n",
    "    'penalty' : ['l1','l2'], \n",
    "    'C'       : np.logspace(-3,3,7),\n",
    "    'solver'  : ['newton-cg', 'lbfgs', 'liblinear'],\n",
    "}\n",
    "\n",
    "grid_clf = GridSearchCV(reg,                    # model\n",
    "                   param_grid = parameters,   # hyperparameters\n",
    "                   scoring='accuracy',        # metric for scoring\n",
    "                   cv=10)                     # number of folds\n",
    "\n",
    "grid_clf.fit(X_train, y_train)\n",
    "print(\"Tuned Hyperparameters :\", grid_clf.best_params_)"
   ]
  },
  {
   "cell_type": "markdown",
   "id": "6f1c068c",
   "metadata": {},
   "source": [
    "We then plugged in the defined hyperparameters in our model and retested the accuracy and classifaction report for our model. Interestingly, our model performed with the exact same effectiveness. "
   ]
  },
  {
   "cell_type": "code",
   "execution_count": 23,
   "id": "2fc6a73c",
   "metadata": {},
   "outputs": [
    {
     "name": "stdout",
     "output_type": "stream",
     "text": [
      "Logistic Regression model accuracy(in %): 84.7457627118644\n"
     ]
    }
   ],
   "source": [
    "# create logistic regression object\n",
    "reg = LogisticRegression(C=1, penalty='l2', solver='liblinear')\n",
    "   \n",
    "# train the model using the training sets\n",
    "reg.fit(X_train, y_train)\n",
    "  \n",
    "# making predictions on the testing set\n",
    "y_pred = reg.predict(X_test)\n",
    "   \n",
    "# comparing actual response values (y_test) with predicted response values (y_pred)\n",
    "print(\"Logistic Regression model accuracy(in %):\", \n",
    "metrics.accuracy_score(y_test, y_pred)*100)"
   ]
  },
  {
   "cell_type": "code",
   "execution_count": 24,
   "id": "d8423d06",
   "metadata": {},
   "outputs": [
    {
     "name": "stdout",
     "output_type": "stream",
     "text": [
      "              precision    recall  f1-score   support\n",
      "\n",
      "           0       0.89      0.90      0.89       125\n",
      "           1       0.75      0.73      0.74        52\n",
      "\n",
      "    accuracy                           0.85       177\n",
      "   macro avg       0.82      0.81      0.82       177\n",
      "weighted avg       0.85      0.85      0.85       177\n",
      "\n"
     ]
    }
   ],
   "source": [
    "print(classification_report(y_test, y_pred))"
   ]
  },
  {
   "cell_type": "markdown",
   "id": "c71df61e",
   "metadata": {},
   "source": [
    "### Naive Bayes\n",
    "\n",
    "We then explored the Naive Bayes classification algorithm. Naive Bayes has only a single assumption, and that is that all features are indepdendent.  Thankfully, we had checked for this same assumption with our Logistic Regression model and it was shown that our featueres were, in fact, indepdendent. \n",
    "\n",
    "To begin, we created a model with no additional hyper parameter tuning. This model was able to accurately predict the diagnosis of pancreatic cancer patients at 42.372%, which is a very low performance. "
   ]
  },
  {
   "cell_type": "code",
   "execution_count": 25,
   "id": "e65e9a62",
   "metadata": {},
   "outputs": [
    {
     "name": "stdout",
     "output_type": "stream",
     "text": [
      "Naive Bayes model accuracy(in %): 42.3728813559322\n"
     ]
    }
   ],
   "source": [
    "nb = GaussianNB()\n",
    "nb.fit(X_train, y_train)\n",
    "\n",
    "# making predictions on the testing set\n",
    "y_pred = nb.predict(X_test)\n",
    "   \n",
    "# comparing actual response values (y_test) with predicted response values (y_pred)\n",
    "print(\"Naive Bayes model accuracy(in %):\", \n",
    "metrics.accuracy_score(y_test, y_pred)*100)"
   ]
  },
  {
   "cell_type": "code",
   "execution_count": 26,
   "id": "6966bdb3",
   "metadata": {},
   "outputs": [
    {
     "name": "stdout",
     "output_type": "stream",
     "text": [
      "              precision    recall  f1-score   support\n",
      "\n",
      "           0       1.00      0.18      0.31       125\n",
      "           1       0.34      1.00      0.50        52\n",
      "\n",
      "    accuracy                           0.42       177\n",
      "   macro avg       0.67      0.59      0.41       177\n",
      "weighted avg       0.81      0.42      0.37       177\n",
      "\n"
     ]
    }
   ],
   "source": [
    "print(classification_report(y_test, y_pred))"
   ]
  },
  {
   "cell_type": "markdown",
   "id": "980a0d8a",
   "metadata": {},
   "source": [
    "We then performed hyperparameter tuning with GridSearchCV to see if we could increase the overall accuracy of our Naive Bayes model. "
   ]
  },
  {
   "cell_type": "code",
   "execution_count": 30,
   "id": "7eedffba",
   "metadata": {},
   "outputs": [
    {
     "name": "stdout",
     "output_type": "stream",
     "text": [
      "Fitting 10 folds for each of 100 candidates, totalling 1000 fits\n",
      "Tuned Hyperparameters : {'var_smoothing': 0.0012328467394420659}\n"
     ]
    }
   ],
   "source": [
    "param_grid_nb = {\n",
    "    'var_smoothing': np.logspace(0,-9, num=100)\n",
    "}\n",
    "\n",
    "nb_grid = GridSearchCV(nb, \n",
    "                       param_grid=param_grid_nb, \n",
    "                       verbose=1, \n",
    "                       cv=10)\n",
    "nb_grid.fit(X_train, y_train)\n",
    "print(\"Tuned Hyperparameters :\", nb_grid.best_params_)"
   ]
  },
  {
   "cell_type": "markdown",
   "id": "b7cbc0ba",
   "metadata": {},
   "source": [
    "\"The variable, var_smoothing, artificially adds a user-defined value to the distribution's variance (whose default value is derived from the training data set). This essentially widens (or \"smooths\") the curve and accounts for more samples that are further away from the distribution mean.\" \n",
    "\n",
    "This variable smoothing actually made our Gaussian Naive Bayes and Logistic Regression models perform equally as well. "
   ]
  },
  {
   "cell_type": "code",
   "execution_count": 32,
   "id": "c293e479",
   "metadata": {},
   "outputs": [
    {
     "name": "stdout",
     "output_type": "stream",
     "text": [
      "Naive Bayes model accuracy(in %): 84.7457627118644\n"
     ]
    }
   ],
   "source": [
    "nb = GaussianNB(var_smoothing=0.0012328467394420659)\n",
    "nb.fit(X_train, y_train)\n",
    "\n",
    "# making predictions on the testing set\n",
    "y_pred = nb.predict(X_test)\n",
    "   \n",
    "# comparing actual response values (y_test) with predicted response values (y_pred)\n",
    "print(\"Naive Bayes model accuracy(in %):\", \n",
    "metrics.accuracy_score(y_test, y_pred)*100)"
   ]
  },
  {
   "cell_type": "code",
   "execution_count": 33,
   "id": "49feeb80",
   "metadata": {},
   "outputs": [
    {
     "name": "stdout",
     "output_type": "stream",
     "text": [
      "              precision    recall  f1-score   support\n",
      "\n",
      "           0       0.89      0.90      0.89       125\n",
      "           1       0.75      0.73      0.74        52\n",
      "\n",
      "    accuracy                           0.85       177\n",
      "   macro avg       0.82      0.81      0.82       177\n",
      "weighted avg       0.85      0.85      0.85       177\n",
      "\n"
     ]
    }
   ],
   "source": [
    "print(classification_report(y_test, y_pred))"
   ]
  },
  {
   "cell_type": "markdown",
   "id": "55230bee",
   "metadata": {},
   "source": [
    "## Conclusion\n",
    "After tuning the logistic regression and naive bayes model hyperparameters, we evaluated the performance metrics.  Interestingly, both models resulted in equivalent metrics on the classification reports. \n",
    "\n",
    "Precision is the ability of a classifier not to label an instance positive that is actually negative.  This is an important metric when evaluating a model for pancreatic cancer classification, because we do not want our model to label a patient as positive for pancreatic cancer who is not actually sick.  In practice, we assume that a false positive would result in further diagnostic work up before immediately initiating an agressive treatment plan.  \n",
    "\n",
    "Recall is the ability of a classifier to find all positive instances. This is another important consideration for a model that is classifying a disease with such a high mortality rate.  We want to optimize this metric to make sure we are capturing as many actual positives as possible, since the function of our algorithm is to help identify pancreatic disease early.  \n",
    "\n",
    "The F1 score is a weighted harmonic mean of precision and recall such that the best score is 1.0 and the worst is 0.0. This metric is helpful to compare the effectiveness of different machine learning models.  The F1 scores were equivalent for our models.  \n",
    "\n",
    "This case highlights how machine learning can bring hopeful applications to some difficult problems in healthcare.  In practice, deploying machine learning algorithms that impact humans should be developed on larger cohorts to improve statistical power, involve experts to understand possible confounding variables or outliers, and ethics consultations to verify the appropriateness and consequences of machine learning models in clinical practice.  "
   ]
  },
  {
   "cell_type": "code",
   "execution_count": null,
   "id": "0fea4f46",
   "metadata": {},
   "outputs": [],
   "source": []
  }
 ],
 "metadata": {
  "kernelspec": {
   "display_name": "Python 3 (ipykernel)",
   "language": "python",
   "name": "python3"
  },
  "language_info": {
   "codemirror_mode": {
    "name": "ipython",
    "version": 3
   },
   "file_extension": ".py",
   "mimetype": "text/x-python",
   "name": "python",
   "nbconvert_exporter": "python",
   "pygments_lexer": "ipython3",
   "version": "3.8.2"
  }
 },
 "nbformat": 4,
 "nbformat_minor": 5
}
